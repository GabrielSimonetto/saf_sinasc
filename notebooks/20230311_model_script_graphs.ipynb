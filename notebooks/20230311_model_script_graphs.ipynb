{
 "cells": [
  {
   "cell_type": "code",
   "execution_count": 1,
   "metadata": {},
   "outputs": [],
   "source": [
    "import pandas as pd\n",
    "import numpy as np\n",
    "from pathlib import Path\n",
    "\n",
    "import seaborn as sns\n",
    "import matplotlib.pyplot as plt\n",
    "import missingno as msno\n",
    "\n",
    "from saf_sinasc.models import ModelEvaluator\n",
    "from saf_sinasc.config import EVALUATORS_PATH\n",
    "\n",
    "%matplotlib inline"
   ]
  },
  {
   "cell_type": "code",
   "execution_count": 15,
   "metadata": {},
   "outputs": [
    {
     "name": "stderr",
     "output_type": "stream",
     "text": [
      "/home/gabriel/.local/lib/python3.10/site-packages/sklearn/base.py:329: UserWarning: Trying to unpickle estimator RandomForestClassifier from version 1.2.1 when using version 1.1.3. This might lead to breaking code or invalid results. Use at your own risk. For more info please refer to:\n",
      "https://scikit-learn.org/stable/model_persistence.html#security-maintainability-limitations\n",
      "  warnings.warn(\n"
     ]
    }
   ],
   "source": [
    "names = [\"DT\", \"RF\", \"XGB\"]\n",
    "\n",
    "# dt = ModelEvaluator.load(EVALUATORS_PATH/\"1000\"/f\"model_evaluator_{names[0]}.joblib\")\n",
    "dt, rf, xgb = [ModelEvaluator.load(EVALUATORS_PATH/\"1000\"/f\"model_evaluator_{name}.joblib\") for name in names ]\n",
    "\n",
    "evaluators = [dt, rf, xgb]"
   ]
  },
  {
   "cell_type": "code",
   "execution_count": 31,
   "metadata": {},
   "outputs": [
    {
     "data": {
      "image/png": "[encoded data removed]",
      "text/plain": [
       "<Figure size 640x480 with 1 Axes>"
      ]
     },
     "metadata": {},
     "output_type": "display_data"
    }
   ],
   "source": [
    "# Seaborn\n",
    "\n",
    "# agora com colunas\n",
    "\n",
    "# get feature importancesa\n",
    "\n",
    "import os\n",
    "\n",
    "NUM_OF_FEATURES_TO_DISPLAY = 10\n",
    "\n",
    "def plot_aggregated_feature_importances(evaluator, num_of_features_to_display = NUM_OF_FEATURES_TO_DISPLAY):\n",
    "    # Take the mean of the list of feature importance per sample\n",
    "    fi_mean =  pd.DataFrame(evaluator.feature_importances).mean()\n",
    "\n",
    "    # create a DataFrame with feature importances\n",
    "    df_importances = (\n",
    "        pd.DataFrame({'feature': evaluator.training_columns, 'importance': fi_mean})\n",
    "        .sort_values('importance', ascending=False)\n",
    "        .iloc[:num_of_features_to_display]\n",
    "    )\n",
    "\n",
    "    # plot feature importances\n",
    "    sns.barplot(x='importance', y='feature', data=df_importances)\n",
    "    \n",
    "    \n",
    "#     os.makedirs(os.path.dirname(\"teste.png\"), exist_ok=True)\n",
    "    plt.savefig(\"teste.png\")\n",
    "\n",
    "#     plt.show()\n",
    "    \n",
    "plot_aggregated_feature_importances(dt)"
   ]
  },
  {
   "cell_type": "code",
   "execution_count": null,
   "metadata": {},
   "outputs": [],
   "source": []
  },
  {
   "cell_type": "markdown",
   "metadata": {},
   "source": [
    "# Rascunhos de modelo"
   ]
  },
  {
   "cell_type": "code",
   "execution_count": null,
   "metadata": {},
   "outputs": [],
   "source": [
    "# Preciso de uns modelo pra plottar and stuff\n",
    "\n",
    "from saf_sinasc.models import default_run_models\n",
    "\n",
    "bla = default_run_models(num_samples=2)"
   ]
  },
  {
   "cell_type": "code",
   "execution_count": null,
   "metadata": {},
   "outputs": [],
   "source": [
    "demo = bla[0].model\n",
    "demo"
   ]
  },
  {
   "cell_type": "code",
   "execution_count": null,
   "metadata": {},
   "outputs": [],
   "source": [
    "demo.feature_importances_"
   ]
  },
  {
   "cell_type": "code",
   "execution_count": null,
   "metadata": {},
   "outputs": [],
   "source": [
    "bla[0].training_columns"
   ]
  },
  {
   "cell_type": "code",
   "execution_count": null,
   "metadata": {},
   "outputs": [],
   "source": [
    "import matplotlib.pyplot as plt\n",
    "\n",
    "# # get feature importances\n",
    "importances = demo.feature_importances_\n",
    "# feature_names = X.columns.tolist()\n",
    "\n",
    "# # sort feature importances in descending order\n",
    "sorted_idx = importances.argsort()[::-1]\n",
    "    # # ^ oqq isso faz???\n",
    "\n",
    "# # VERIFICAR COMO CONFIG DEPOIS\n",
    "NUM_OF_FEATURES_TO_DISPLAY = 10\n",
    "\n",
    "    \n",
    "sorted_importances = importances[sorted_idx][:NUM_OF_FEATURES_TO_DISPLAY]\n",
    "# sorted_feature_names = [feature_names[i] for i in sorted_idx]\n",
    "\n",
    "type(importances)\n",
    "\n",
    "# # plot feature importances\n",
    "plt.barh(range(NUM_OF_FEATURES_TO_DISPLAY), sorted_importances)\n",
    "# plt.yticks(range(X.shape[1]), sorted_feature_names)\n",
    "plt.xlabel('Feature Importance')\n",
    "plt.show()"
   ]
  },
  {
   "cell_type": "code",
   "execution_count": null,
   "metadata": {},
   "outputs": [],
   "source": [
    "# Seaborn\n",
    "\n",
    "# agora com colunas\n",
    "\n",
    "# get feature importancesa\n",
    "\n",
    "def aux(feature_importances):\n",
    "    importances = feature_importances\n",
    "    feature_names = bla[0].training_columns.tolist()\n",
    "\n",
    "    # create a DataFrame with feature importances\n",
    "    df_importances = pd.DataFrame({'feature': feature_names, 'importance': importances})\n",
    "\n",
    "    # sort feature importances in descending order\n",
    "    df_importances = df_importances.sort_values('importance', ascending=False)\n",
    "\n",
    "    df_importances = df_importances.iloc[:10]\n",
    "\n",
    "    # plot feature importances\n",
    "    sns.barplot(x='importance', y='feature', data=df_importances)\n",
    "    plt.show()\n",
    "    \n",
    "aux(bla[0].model.feature_importances_)"
   ]
  },
  {
   "cell_type": "code",
   "execution_count": null,
   "metadata": {},
   "outputs": [],
   "source": []
  },
  {
   "cell_type": "markdown",
   "metadata": {},
   "source": [
    "# Os plot de roc auc que nao deram certo i guess"
   ]
  },
  {
   "cell_type": "code",
   "execution_count": null,
   "metadata": {},
   "outputs": [],
   "source": [
    "bla[0].results"
   ]
  },
  {
   "cell_type": "code",
   "execution_count": null,
   "metadata": {},
   "outputs": [],
   "source": [
    "from sklearn.datasets import make_classification\n",
    "from sklearn.tree import DecisionTreeClassifier\n",
    "from sklearn.metrics import roc_curve, roc_auc_score\n",
    "from sklearn.model_selection import train_test_split\n",
    "from sklearn.metrics import RocCurveDisplay\n",
    "import matplotlib.pyplot as plt\n",
    "\n",
    "# # generate some random data\n",
    "# X, y = make_classification(n_samples=1000, random_state=42)\n",
    "\n",
    "# # split the data into train and test sets\n",
    "# X_train, X_test, y_train, y_test = train_test_split(X, y, test_size=0.2, random_state=42)\n",
    "\n",
    "# # create a decision tree classifier\n",
    "# clf = DecisionTreeClassifier(random_state=42)\n",
    "\n",
    "# # train the classifiebr on the training set\n",
    "# clf.fit(X_train, y_train)\n",
    "\n",
    "# X e y soh tem la pra tras.\n",
    "\n",
    "# predict probabilities on the test set\n",
    "y_proba = clf.predict_proba(X_test)[:, 1]\n",
    "\n",
    "# calculate ROC curve and AUC score\n",
    "fpr, tpr, _ = roc_curve(y_test, y_proba)\n",
    "roc_auc = roc_auc_score(y_test, y_proba)\n",
    "\n",
    "# plot the ROC curve using RocCurveDisplay\n",
    "roc_display = RocCurveDisplay(fpr=fpr, tpr=tpr, roc_auc=roc_auc, estimator_name='Decision Tree')\n",
    "roc_display.plot()\n",
    "plt.show()"
   ]
  },
  {
   "cell_type": "code",
   "execution_count": null,
   "metadata": {},
   "outputs": [],
   "source": [
    "import matplotlib.pyplot as plt\n",
    "\n",
    "from sklearn import svm\n",
    "from sklearn.metrics import auc\n",
    "from sklearn.metrics import RocCurveDisplay\n",
    "from sklearn.model_selection import StratifiedKFold\n",
    "\n",
    "cv = StratifiedKFold(n_splits=6)\n",
    "# classifier = svm.SVC(kernel=\"linear\", probability=True, random_state=random_state)\n",
    "classifier = bla[0].model\n",
    "\n",
    "tprs = []\n",
    "aucs = []\n",
    "mean_fpr = np.linspace(0, 1, 100)\n",
    "\n",
    "fig, ax = plt.subplots(figsize=(6, 6))\n",
    "for fold, (train, test) in enumerate(cv.split(X, y)):\n",
    "    classifier.fit(X[train], y[train])\n",
    "    viz = RocCurveDisplay.from_estimator(\n",
    "        classifier,\n",
    "        X[test],\n",
    "        y[test],\n",
    "        name=f\"ROC fold {fold}\",\n",
    "        alpha=0.3,\n",
    "        lw=1,\n",
    "        ax=ax,\n",
    "    )\n",
    "    interp_tpr = np.interp(mean_fpr, viz.fpr, viz.tpr)\n",
    "    interp_tpr[0] = 0.0\n",
    "    tprs.append(interp_tpr)\n",
    "    aucs.append(viz.roc_auc)\n",
    "ax.plot([0, 1], [0, 1], \"k--\", label=\"chance level (AUC = 0.5)\")\n",
    "\n",
    "mean_tpr = np.mean(tprs, axis=0)\n",
    "mean_tpr[-1] = 1.0\n",
    "mean_auc = auc(mean_fpr, mean_tpr)\n",
    "std_auc = np.std(aucs)\n",
    "ax.plot(\n",
    "    mean_fpr,\n",
    "    mean_tpr,\n",
    "    color=\"b\",\n",
    "    label=r\"Mean ROC (AUC = %0.2f $\\pm$ %0.2f)\" % (mean_auc, std_auc),\n",
    "    lw=2,\n",
    "    alpha=0.8,\n",
    ")\n",
    "\n",
    "std_tpr = np.std(tprs, axis=0)\n",
    "tprs_upper = np.minimum(mean_tpr + std_tpr, 1)\n",
    "tprs_lower = np.maximum(mean_tpr - std_tpr, 0)\n",
    "ax.fill_between(\n",
    "    mean_fpr,\n",
    "    tprs_lower,\n",
    "    tprs_upper,\n",
    "    color=\"grey\",\n",
    "    alpha=0.2,\n",
    "    label=r\"$\\pm$ 1 std. dev.\",\n",
    ")\n",
    "\n",
    "ax.set(\n",
    "    xlim=[-0.05, 1.05],\n",
    "    ylim=[-0.05, 1.05],\n",
    "    xlabel=\"False Positive Rate\",\n",
    "    ylabel=\"True Positive Rate\",\n",
    "    title=f\"Mean ROC curve with variability\\n(Positive label '{target_names[1]}')\",\n",
    ")\n",
    "ax.axis(\"square\")\n",
    "ax.legend(loc=\"lower right\")\n",
    "plt.show()"
   ]
  },
  {
   "cell_type": "code",
   "execution_count": null,
   "metadata": {},
   "outputs": [],
   "source": []
  },
  {
   "cell_type": "code",
   "execution_count": null,
   "metadata": {},
   "outputs": [],
   "source": []
  },
  {
   "cell_type": "code",
   "execution_count": null,
   "metadata": {},
   "outputs": [],
   "source": []
  },
  {
   "cell_type": "code",
   "execution_count": null,
   "metadata": {},
   "outputs": [],
   "source": []
  },
  {
   "cell_type": "code",
   "execution_count": null,
   "metadata": {},
   "outputs": [],
   "source": []
  },
  {
   "cell_type": "code",
   "execution_count": null,
   "metadata": {},
   "outputs": [],
   "source": []
  },
  {
   "cell_type": "code",
   "execution_count": null,
   "metadata": {},
   "outputs": [],
   "source": []
  },
  {
   "cell_type": "code",
   "execution_count": null,
   "metadata": {},
   "outputs": [],
   "source": []
  },
  {
   "cell_type": "code",
   "execution_count": null,
   "metadata": {},
   "outputs": [],
   "source": []
  },
  {
   "cell_type": "code",
   "execution_count": null,
   "metadata": {},
   "outputs": [],
   "source": []
  },
  {
   "cell_type": "code",
   "execution_count": null,
   "metadata": {},
   "outputs": [],
   "source": []
  },
  {
   "cell_type": "code",
   "execution_count": null,
   "metadata": {},
   "outputs": [],
   "source": []
  }
 ],
 "metadata": {
  "kernelspec": {
   "display_name": "saf_sinasc",
   "language": "python",
   "name": "saf_sinasc"
  },
  "language_info": {
   "codemirror_mode": {
    "name": "ipython",
    "version": 3
   },
   "file_extension": ".py",
   "mimetype": "text/x-python",
   "name": "python",
   "nbconvert_exporter": "python",
   "pygments_lexer": "ipython3",
   "version": "3.10.9"
  }
 },
 "nbformat": 4,
 "nbformat_minor": 4
}
